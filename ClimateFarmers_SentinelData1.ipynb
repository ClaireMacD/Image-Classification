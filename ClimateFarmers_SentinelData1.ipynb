{
  "nbformat": 4,
  "nbformat_minor": 0,
  "metadata": {
    "language_info": {
      "codemirror_mode": {
        "name": "ipython",
        "version": 3
      },
      "file_extension": ".py",
      "mimetype": "text/x-python",
      "name": "python",
      "nbconvert_exporter": "python",
      "pygments_lexer": "ipython3",
      "version": "3.8.2"
    },
    "orig_nbformat": 2,
    "kernelspec": {
      "name": "python382jvsc74a57bd09ceeaccb2d4b8fc120d52b4319c20d729c878e30972ae0f296691445edd93f69",
      "display_name": "Python 3.8.2 32-bit"
    },
    "metadata": {
      "interpreter": {
        "hash": "9ceeaccb2d4b8fc120d52b4319c20d729c878e30972ae0f296691445edd93f69"
      }
    },
    "colab": {
      "name": "ClimateFarmers_SentinelData1",
      "provenance": [],
      "collapsed_sections": [],
      "toc_visible": true
    }
  },
  "cells": [
    {
      "cell_type": "markdown",
      "metadata": {
        "id": "AuW6IwHdzlQK"
      },
      "source": [
        "Need help on cells 7 (cloud cover) and 9"
      ]
    },
    {
      "cell_type": "code",
      "metadata": {
        "id": "OGt_6jLSH9jU",
        "colab": {
          "base_uri": "https://localhost:8080/"
        },
        "outputId": "6cb7761f-c1bb-4b56-9baf-ecdacb8b1d50"
      },
      "source": [
        "#Cell 1\n",
        "!pip install fiona\n",
        "!pip install geopandas\n",
        "!pip install rasterio\n",
        "!pip install sentinelsat"
      ],
      "execution_count": null,
      "outputs": [
        {
          "output_type": "stream",
          "text": [
            "Requirement already satisfied: fiona in /usr/local/lib/python3.7/dist-packages (1.8.19)\n",
            "Requirement already satisfied: cligj>=0.5 in /usr/local/lib/python3.7/dist-packages (from fiona) (0.7.1)\n",
            "Requirement already satisfied: click<8,>=4.0 in /usr/local/lib/python3.7/dist-packages (from fiona) (7.1.2)\n",
            "Requirement already satisfied: click-plugins>=1.0 in /usr/local/lib/python3.7/dist-packages (from fiona) (1.1.1)\n",
            "Requirement already satisfied: certifi in /usr/local/lib/python3.7/dist-packages (from fiona) (2020.12.5)\n",
            "Requirement already satisfied: munch in /usr/local/lib/python3.7/dist-packages (from fiona) (2.5.0)\n",
            "Requirement already satisfied: attrs>=17 in /usr/local/lib/python3.7/dist-packages (from fiona) (20.3.0)\n",
            "Requirement already satisfied: six>=1.7 in /usr/local/lib/python3.7/dist-packages (from fiona) (1.15.0)\n",
            "Requirement already satisfied: geopandas in /usr/local/lib/python3.7/dist-packages (0.9.0)\n",
            "Requirement already satisfied: pyproj>=2.2.0 in /usr/local/lib/python3.7/dist-packages (from geopandas) (3.0.1)\n",
            "Requirement already satisfied: shapely>=1.6 in /usr/local/lib/python3.7/dist-packages (from geopandas) (1.7.1)\n",
            "Requirement already satisfied: fiona>=1.8 in /usr/local/lib/python3.7/dist-packages (from geopandas) (1.8.19)\n",
            "Requirement already satisfied: pandas>=0.24.0 in /usr/local/lib/python3.7/dist-packages (from geopandas) (1.1.5)\n",
            "Requirement already satisfied: certifi in /usr/local/lib/python3.7/dist-packages (from pyproj>=2.2.0->geopandas) (2020.12.5)\n",
            "Requirement already satisfied: click-plugins>=1.0 in /usr/local/lib/python3.7/dist-packages (from fiona>=1.8->geopandas) (1.1.1)\n",
            "Requirement already satisfied: click<8,>=4.0 in /usr/local/lib/python3.7/dist-packages (from fiona>=1.8->geopandas) (7.1.2)\n",
            "Requirement already satisfied: cligj>=0.5 in /usr/local/lib/python3.7/dist-packages (from fiona>=1.8->geopandas) (0.7.1)\n",
            "Requirement already satisfied: munch in /usr/local/lib/python3.7/dist-packages (from fiona>=1.8->geopandas) (2.5.0)\n",
            "Requirement already satisfied: attrs>=17 in /usr/local/lib/python3.7/dist-packages (from fiona>=1.8->geopandas) (20.3.0)\n",
            "Requirement already satisfied: six>=1.7 in /usr/local/lib/python3.7/dist-packages (from fiona>=1.8->geopandas) (1.15.0)\n",
            "Requirement already satisfied: python-dateutil>=2.7.3 in /usr/local/lib/python3.7/dist-packages (from pandas>=0.24.0->geopandas) (2.8.1)\n",
            "Requirement already satisfied: pytz>=2017.2 in /usr/local/lib/python3.7/dist-packages (from pandas>=0.24.0->geopandas) (2018.9)\n",
            "Requirement already satisfied: numpy>=1.15.4 in /usr/local/lib/python3.7/dist-packages (from pandas>=0.24.0->geopandas) (1.19.5)\n",
            "Requirement already satisfied: rasterio in /usr/local/lib/python3.7/dist-packages (1.2.2)\n",
            "Requirement already satisfied: certifi in /usr/local/lib/python3.7/dist-packages (from rasterio) (2020.12.5)\n",
            "Requirement already satisfied: attrs in /usr/local/lib/python3.7/dist-packages (from rasterio) (20.3.0)\n",
            "Requirement already satisfied: click-plugins in /usr/local/lib/python3.7/dist-packages (from rasterio) (1.1.1)\n",
            "Requirement already satisfied: snuggs>=1.4.1 in /usr/local/lib/python3.7/dist-packages (from rasterio) (1.4.7)\n",
            "Requirement already satisfied: numpy in /usr/local/lib/python3.7/dist-packages (from rasterio) (1.19.5)\n",
            "Requirement already satisfied: click<8,>=4.0 in /usr/local/lib/python3.7/dist-packages (from rasterio) (7.1.2)\n",
            "Requirement already satisfied: cligj>=0.5 in /usr/local/lib/python3.7/dist-packages (from rasterio) (0.7.1)\n",
            "Requirement already satisfied: affine in /usr/local/lib/python3.7/dist-packages (from rasterio) (2.3.0)\n",
            "Requirement already satisfied: pyparsing>=2.1.6 in /usr/local/lib/python3.7/dist-packages (from snuggs>=1.4.1->rasterio) (2.4.7)\n",
            "Requirement already satisfied: sentinelsat in /usr/local/lib/python3.7/dist-packages (0.14)\n",
            "Requirement already satisfied: six in /usr/local/lib/python3.7/dist-packages (from sentinelsat) (1.15.0)\n",
            "Requirement already satisfied: click in /usr/local/lib/python3.7/dist-packages (from sentinelsat) (7.1.2)\n",
            "Requirement already satisfied: tqdm in /usr/local/lib/python3.7/dist-packages (from sentinelsat) (4.41.1)\n",
            "Requirement already satisfied: requests in /usr/local/lib/python3.7/dist-packages (from sentinelsat) (2.23.0)\n",
            "Requirement already satisfied: geojson>=2 in /usr/local/lib/python3.7/dist-packages (from sentinelsat) (2.5.0)\n",
            "Requirement already satisfied: html2text in /usr/local/lib/python3.7/dist-packages (from sentinelsat) (2020.1.16)\n",
            "Requirement already satisfied: geomet in /usr/local/lib/python3.7/dist-packages (from sentinelsat) (0.3.0)\n",
            "Requirement already satisfied: chardet<4,>=3.0.2 in /usr/local/lib/python3.7/dist-packages (from requests->sentinelsat) (3.0.4)\n",
            "Requirement already satisfied: certifi>=2017.4.17 in /usr/local/lib/python3.7/dist-packages (from requests->sentinelsat) (2020.12.5)\n",
            "Requirement already satisfied: idna<3,>=2.5 in /usr/local/lib/python3.7/dist-packages (from requests->sentinelsat) (2.10)\n",
            "Requirement already satisfied: urllib3!=1.25.0,!=1.25.1,<1.26,>=1.21.1 in /usr/local/lib/python3.7/dist-packages (from requests->sentinelsat) (1.24.3)\n"
          ],
          "name": "stdout"
        }
      ]
    },
    {
      "cell_type": "code",
      "metadata": {
        "id": "11-uPNG6Hikg"
      },
      "source": [
        "#Cell 2: import some libraries\n",
        "\n",
        "#Libraries used:\n",
        "#MatplotLib: \n",
        "# python -m pip install -U matplotlib\n",
        "import matplotlib\n",
        "import matplotlib.pyplot as plt\n",
        "import matplotlib.image as mpimg\n",
        "#makes the images display inside this notebook:\n",
        "%matplotlib inline \n",
        "import matplotlib.ticker as mtick\n",
        "from matplotlib.ticker import PercentFormatter\n",
        "import matplotlib.collections as collections\n",
        "import matplotlib.patches as patches\n",
        "from PIL import Image\n",
        "import mpl_toolkits.axes_grid1 as axes_grid1\n",
        "\n",
        "#tkinter to support gui dialogue boxes, etc\n",
        "import tkinter as tk\n",
        "from tkinter import filedialog\n",
        "from tkinter import ttk\n",
        "from tkinter.simpledialog import askinteger\n",
        "\n",
        "#Numpy\n",
        "import numpy as np\n",
        "\n",
        "\n",
        "#shapely (interface to GEOS) \"pip install shapely\"\n",
        "from shapely.geometry import Point\n",
        "from shapely import geometry\n",
        "from shapely.geometry import Polygon\n",
        "\n",
        "#Fiona\n",
        "import fiona\n",
        "\n",
        "#GeoPandas\n",
        "import geopandas as gpd\n",
        "# pip install geopandas\n",
        "\n",
        "#Folium\n",
        "import folium \n",
        "# pip install folium\n",
        "\n",
        "#rasterio\n",
        "import rasterio as rio\n",
        "from rasterio.mask import mask\n",
        "\n",
        "#pyplot\n",
        "import matplotlib.pyplot as plt\n",
        "\n",
        "#\n",
        "from sentinelsat import SentinelAPI\n",
        "#from sentinelsat.sentinel import get_coordinates\n",
        "import datetime\n",
        "from datetime import date\n",
        "\n",
        "\n",
        "import zipfile\n",
        "import glob\n",
        "import os"
      ],
      "execution_count": null,
      "outputs": []
    },
    {
      "cell_type": "code",
      "metadata": {
        "id": "DPtVYp50Hiks"
      },
      "source": [
        "#Cell 3 : Study area\n",
        "#case study\n",
        "#**Name:** \t\t\t        Ackerpulco\n",
        "#**Link:**\t\t\t        http://ackerpulco-farm.de/\n",
        "#**Location:**\t\t\t    Schlossstraße 5, 15518, Alt-Madlitz, Germany\n",
        "#**Coordinates:**\t\t    52.37962462071622, 14.280646369492525 --- 52°22'46.7\"N 14°16'50.3\"E\n",
        "\n",
        "lat = 52.37962462071622\n",
        "lon = 14.280646369492525"
      ],
      "execution_count": null,
      "outputs": []
    },
    {
      "cell_type": "code",
      "metadata": {
        "id": "T8ShQvDbHiku",
        "colab": {
          "base_uri": "https://localhost:8080/",
          "height": 474
        },
        "outputId": "62862d97-a533-4143-ae49-515e236d883a"
      },
      "source": [
        "#Cell 4 create a basic map of the area\n",
        "\n",
        "tooltip = \"Click me!\"\n",
        "m = folium.Map([lat, lon], zoom_start=16)\n",
        "folium.Marker(\n",
        "    [lat, lon], popup=\"<b>Ackerpulco</b>\", tooltip=tooltip\n",
        ").add_to(m)\n",
        "m"
      ],
      "execution_count": null,
      "outputs": [
        {
          "output_type": "execute_result",
          "data": {
            "text/html": [
              "<div style=\"width:100%;\"><div style=\"position:relative;width:100%;height:0;padding-bottom:60%;\"><span style=\"color:#565656\">Make this Notebook Trusted to load map: File -> Trust Notebook</span><iframe src=\"about:blank\" style=\"position:absolute;width:100%;height:100%;left:0;top:0;border:none !important;\" data-html=%3C%21DOCTYPE%20html%3E%0A%3Chead%3E%20%20%20%20%0A%20%20%20%20%3Cmeta%20http-equiv%3D%22content-type%22%20content%3D%22text/html%3B%20charset%3DUTF-8%22%20/%3E%0A%20%20%20%20%3Cscript%3EL_PREFER_CANVAS%3Dfalse%3B%20L_NO_TOUCH%3Dfalse%3B%20L_DISABLE_3D%3Dfalse%3B%3C/script%3E%0A%20%20%20%20%3Cscript%20src%3D%22https%3A//cdn.jsdelivr.net/npm/leaflet%401.4.0/dist/leaflet.js%22%3E%3C/script%3E%0A%20%20%20%20%3Cscript%20src%3D%22https%3A//code.jquery.com/jquery-1.12.4.min.js%22%3E%3C/script%3E%0A%20%20%20%20%3Cscript%20src%3D%22https%3A//maxcdn.bootstrapcdn.com/bootstrap/3.2.0/js/bootstrap.min.js%22%3E%3C/script%3E%0A%20%20%20%20%3Cscript%20src%3D%22https%3A//cdnjs.cloudflare.com/ajax/libs/Leaflet.awesome-markers/2.0.2/leaflet.awesome-markers.js%22%3E%3C/script%3E%0A%20%20%20%20%3Clink%20rel%3D%22stylesheet%22%20href%3D%22https%3A//cdn.jsdelivr.net/npm/leaflet%401.4.0/dist/leaflet.css%22/%3E%0A%20%20%20%20%3Clink%20rel%3D%22stylesheet%22%20href%3D%22https%3A//maxcdn.bootstrapcdn.com/bootstrap/3.2.0/css/bootstrap.min.css%22/%3E%0A%20%20%20%20%3Clink%20rel%3D%22stylesheet%22%20href%3D%22https%3A//maxcdn.bootstrapcdn.com/bootstrap/3.2.0/css/bootstrap-theme.min.css%22/%3E%0A%20%20%20%20%3Clink%20rel%3D%22stylesheet%22%20href%3D%22https%3A//maxcdn.bootstrapcdn.com/font-awesome/4.6.3/css/font-awesome.min.css%22/%3E%0A%20%20%20%20%3Clink%20rel%3D%22stylesheet%22%20href%3D%22https%3A//cdnjs.cloudflare.com/ajax/libs/Leaflet.awesome-markers/2.0.2/leaflet.awesome-markers.css%22/%3E%0A%20%20%20%20%3Clink%20rel%3D%22stylesheet%22%20href%3D%22https%3A//rawcdn.githack.com/python-visualization/folium/master/folium/templates/leaflet.awesome.rotate.css%22/%3E%0A%20%20%20%20%3Cstyle%3Ehtml%2C%20body%20%7Bwidth%3A%20100%25%3Bheight%3A%20100%25%3Bmargin%3A%200%3Bpadding%3A%200%3B%7D%3C/style%3E%0A%20%20%20%20%3Cstyle%3E%23map%20%7Bposition%3Aabsolute%3Btop%3A0%3Bbottom%3A0%3Bright%3A0%3Bleft%3A0%3B%7D%3C/style%3E%0A%20%20%20%20%0A%20%20%20%20%3Cmeta%20name%3D%22viewport%22%20content%3D%22width%3Ddevice-width%2C%0A%20%20%20%20%20%20%20%20initial-scale%3D1.0%2C%20maximum-scale%3D1.0%2C%20user-scalable%3Dno%22%20/%3E%0A%20%20%20%20%3Cstyle%3E%23map_c392671317c54a5a9cd1910582cef113%20%7B%0A%20%20%20%20%20%20%20%20position%3A%20relative%3B%0A%20%20%20%20%20%20%20%20width%3A%20100.0%25%3B%0A%20%20%20%20%20%20%20%20height%3A%20100.0%25%3B%0A%20%20%20%20%20%20%20%20left%3A%200.0%25%3B%0A%20%20%20%20%20%20%20%20top%3A%200.0%25%3B%0A%20%20%20%20%20%20%20%20%7D%0A%20%20%20%20%3C/style%3E%0A%3C/head%3E%0A%3Cbody%3E%20%20%20%20%0A%20%20%20%20%0A%20%20%20%20%3Cdiv%20class%3D%22folium-map%22%20id%3D%22map_c392671317c54a5a9cd1910582cef113%22%20%3E%3C/div%3E%0A%3C/body%3E%0A%3Cscript%3E%20%20%20%20%0A%20%20%20%20%0A%20%20%20%20%0A%20%20%20%20%20%20%20%20var%20bounds%20%3D%20null%3B%0A%20%20%20%20%0A%0A%20%20%20%20var%20map_c392671317c54a5a9cd1910582cef113%20%3D%20L.map%28%0A%20%20%20%20%20%20%20%20%27map_c392671317c54a5a9cd1910582cef113%27%2C%20%7B%0A%20%20%20%20%20%20%20%20center%3A%20%5B52.37962462071622%2C%2014.280646369492525%5D%2C%0A%20%20%20%20%20%20%20%20zoom%3A%2016%2C%0A%20%20%20%20%20%20%20%20maxBounds%3A%20bounds%2C%0A%20%20%20%20%20%20%20%20layers%3A%20%5B%5D%2C%0A%20%20%20%20%20%20%20%20worldCopyJump%3A%20false%2C%0A%20%20%20%20%20%20%20%20crs%3A%20L.CRS.EPSG3857%2C%0A%20%20%20%20%20%20%20%20zoomControl%3A%20true%2C%0A%20%20%20%20%20%20%20%20%7D%29%3B%0A%0A%0A%20%20%20%20%0A%20%20%20%20var%20tile_layer_288c037ae842433fbbdf53281a66278b%20%3D%20L.tileLayer%28%0A%20%20%20%20%20%20%20%20%27https%3A//%7Bs%7D.tile.openstreetmap.org/%7Bz%7D/%7Bx%7D/%7By%7D.png%27%2C%0A%20%20%20%20%20%20%20%20%7B%0A%20%20%20%20%20%20%20%20%22attribution%22%3A%20null%2C%0A%20%20%20%20%20%20%20%20%22detectRetina%22%3A%20false%2C%0A%20%20%20%20%20%20%20%20%22maxNativeZoom%22%3A%2018%2C%0A%20%20%20%20%20%20%20%20%22maxZoom%22%3A%2018%2C%0A%20%20%20%20%20%20%20%20%22minZoom%22%3A%200%2C%0A%20%20%20%20%20%20%20%20%22noWrap%22%3A%20false%2C%0A%20%20%20%20%20%20%20%20%22opacity%22%3A%201%2C%0A%20%20%20%20%20%20%20%20%22subdomains%22%3A%20%22abc%22%2C%0A%20%20%20%20%20%20%20%20%22tms%22%3A%20false%0A%7D%29.addTo%28map_c392671317c54a5a9cd1910582cef113%29%3B%0A%20%20%20%20%0A%20%20%20%20%20%20%20%20var%20marker_4d1aacbb0c564d7d90966587871504e8%20%3D%20L.marker%28%0A%20%20%20%20%20%20%20%20%20%20%20%20%5B52.37962462071622%2C%2014.280646369492525%5D%2C%0A%20%20%20%20%20%20%20%20%20%20%20%20%7B%0A%20%20%20%20%20%20%20%20%20%20%20%20%20%20%20%20icon%3A%20new%20L.Icon.Default%28%29%2C%0A%20%20%20%20%20%20%20%20%20%20%20%20%20%20%20%20%7D%0A%20%20%20%20%20%20%20%20%20%20%20%20%29.addTo%28map_c392671317c54a5a9cd1910582cef113%29%3B%0A%20%20%20%20%20%20%20%20%0A%20%20%20%20%0A%20%20%20%20%20%20%20%20%20%20%20%20var%20popup_2a07d3a7ec1a441d837d1b751d7ea965%20%3D%20L.popup%28%7BmaxWidth%3A%20%27100%25%27%0A%20%20%20%20%20%20%20%20%20%20%20%20%0A%20%20%20%20%20%20%20%20%20%20%20%20%7D%29%3B%0A%0A%20%20%20%20%20%20%20%20%20%20%20%20%0A%20%20%20%20%20%20%20%20%20%20%20%20%20%20%20%20var%20html_66399c59aa0949e5862b5c6cd9c2bf28%20%3D%20%24%28%60%3Cdiv%20id%3D%22html_66399c59aa0949e5862b5c6cd9c2bf28%22%20style%3D%22width%3A%20100.0%25%3B%20height%3A%20100.0%25%3B%22%3E%3Cb%3EAckerpulco%3C/b%3E%3C/div%3E%60%29%5B0%5D%3B%0A%20%20%20%20%20%20%20%20%20%20%20%20%20%20%20%20popup_2a07d3a7ec1a441d837d1b751d7ea965.setContent%28html_66399c59aa0949e5862b5c6cd9c2bf28%29%3B%0A%20%20%20%20%20%20%20%20%20%20%20%20%0A%0A%20%20%20%20%20%20%20%20%20%20%20%20marker_4d1aacbb0c564d7d90966587871504e8.bindPopup%28popup_2a07d3a7ec1a441d837d1b751d7ea965%29%0A%20%20%20%20%20%20%20%20%20%20%20%20%3B%0A%0A%20%20%20%20%20%20%20%20%20%20%20%20%0A%20%20%20%20%20%20%20%20%0A%20%20%20%20%0A%20%20%20%20%20%20%20%20marker_4d1aacbb0c564d7d90966587871504e8.bindTooltip%28%0A%20%20%20%20%20%20%20%20%20%20%20%20%60%3Cdiv%3E%60%0A%20%20%20%20%20%20%20%20%20%20%20%20%2B%20%60Click%20me%21%60%20%2B%20%60%3C/div%3E%60%2C%0A%20%20%20%20%20%20%20%20%20%20%20%20%7B%22sticky%22%3A%20true%7D%0A%20%20%20%20%20%20%20%20%29%3B%0A%20%20%20%20%20%20%20%20%0A%3C/script%3E onload=\"this.contentDocument.open();this.contentDocument.write(    decodeURIComponent(this.getAttribute('data-html')));this.contentDocument.close();\" allowfullscreen webkitallowfullscreen mozallowfullscreen></iframe></div></div>"
            ],
            "text/plain": [
              "<folium.folium.Map at 0x7f55605dfa10>"
            ]
          },
          "metadata": {
            "tags": []
          },
          "execution_count": 10
        }
      ]
    },
    {
      "cell_type": "code",
      "metadata": {
        "colab": {
          "base_uri": "https://localhost:8080/",
          "height": 530
        },
        "id": "cxmBveOoZ345",
        "outputId": "b81cf6bc-b973-4f5c-b995-baf55daf57d4"
      },
      "source": [
        "#Cell 5 : designate an area around our given coordinate point\n",
        "\n",
        "m = folium.Map([lat, lon], zoom_start=16)\n",
        "folium.Marker([lat, lon], popup=\"<b>Ackerpulco</b>\", tooltip=tooltip).add_to(m)\n",
        "\n",
        "##draw a rectangle centered around lat, lon \n",
        "##(the physical distance a degree of longitude is depends on the latitude, we can update this later)\n",
        "degree=0.01\n",
        "lat_point_list = [lat-(degree/2), lat+(degree/2), lat+(degree/2), lat-(degree/2)]\n",
        "lon_point_list = [lon-(degree/2), lon-(degree/2), lon+(degree/2), lon+(degree/2)]\n",
        "#these will become the corners of our shapefile. \n",
        "\n",
        "polygon_geom = Polygon(zip(lon_point_list, lat_point_list))\n",
        "crs = {'init': 'epsg:4326'}\n",
        "#crs = {'init': 'epsg:32721'}\n",
        "polygon = gpd.GeoDataFrame(index=[0], crs=crs, geometry=[polygon_geom])       \n",
        "\n",
        "#polygon.to_file(filename='polygon.geojson', driver='GeoJSON')\n",
        "#polygon.to_file(filename='polygon.shp', driver=\"ESRI Shapefile\")\n",
        "\n",
        "#m = folium.Map([lat, lon], zoom_start=16, tiles='cartodbpositron')\n",
        "m = folium.Map([lat, lon], zoom_start=15)\n",
        "folium.GeoJson(polygon).add_to(m)\n",
        "folium.LatLngPopup().add_to(m)\n",
        "m\n"
      ],
      "execution_count": null,
      "outputs": [
        {
          "output_type": "stream",
          "text": [
            "/usr/local/lib/python3.7/dist-packages/pyproj/crs/crs.py:53: FutureWarning: '+init=<authority>:<code>' syntax is deprecated. '<authority>:<code>' is the preferred initialization method. When making the change, be mindful of axis order changes: https://pyproj4.github.io/pyproj/stable/gotchas.html#axis-order-changes-in-proj-6\n",
            "  return _prepare_from_string(\" \".join(pjargs))\n"
          ],
          "name": "stderr"
        },
        {
          "output_type": "execute_result",
          "data": {
            "text/html": [
              "<div style=\"width:100%;\"><div style=\"position:relative;width:100%;height:0;padding-bottom:60%;\"><span style=\"color:#565656\">Make this Notebook Trusted to load map: File -> Trust Notebook</span><iframe src=\"about:blank\" style=\"position:absolute;width:100%;height:100%;left:0;top:0;border:none !important;\" data-html=%3C%21DOCTYPE%20html%3E%0A%3Chead%3E%20%20%20%20%0A%20%20%20%20%3Cmeta%20http-equiv%3D%22content-type%22%20content%3D%22text/html%3B%20charset%3DUTF-8%22%20/%3E%0A%20%20%20%20%3Cscript%3EL_PREFER_CANVAS%3Dfalse%3B%20L_NO_TOUCH%3Dfalse%3B%20L_DISABLE_3D%3Dfalse%3B%3C/script%3E%0A%20%20%20%20%3Cscript%20src%3D%22https%3A//cdn.jsdelivr.net/npm/leaflet%401.4.0/dist/leaflet.js%22%3E%3C/script%3E%0A%20%20%20%20%3Cscript%20src%3D%22https%3A//code.jquery.com/jquery-1.12.4.min.js%22%3E%3C/script%3E%0A%20%20%20%20%3Cscript%20src%3D%22https%3A//maxcdn.bootstrapcdn.com/bootstrap/3.2.0/js/bootstrap.min.js%22%3E%3C/script%3E%0A%20%20%20%20%3Cscript%20src%3D%22https%3A//cdnjs.cloudflare.com/ajax/libs/Leaflet.awesome-markers/2.0.2/leaflet.awesome-markers.js%22%3E%3C/script%3E%0A%20%20%20%20%3Clink%20rel%3D%22stylesheet%22%20href%3D%22https%3A//cdn.jsdelivr.net/npm/leaflet%401.4.0/dist/leaflet.css%22/%3E%0A%20%20%20%20%3Clink%20rel%3D%22stylesheet%22%20href%3D%22https%3A//maxcdn.bootstrapcdn.com/bootstrap/3.2.0/css/bootstrap.min.css%22/%3E%0A%20%20%20%20%3Clink%20rel%3D%22stylesheet%22%20href%3D%22https%3A//maxcdn.bootstrapcdn.com/bootstrap/3.2.0/css/bootstrap-theme.min.css%22/%3E%0A%20%20%20%20%3Clink%20rel%3D%22stylesheet%22%20href%3D%22https%3A//maxcdn.bootstrapcdn.com/font-awesome/4.6.3/css/font-awesome.min.css%22/%3E%0A%20%20%20%20%3Clink%20rel%3D%22stylesheet%22%20href%3D%22https%3A//cdnjs.cloudflare.com/ajax/libs/Leaflet.awesome-markers/2.0.2/leaflet.awesome-markers.css%22/%3E%0A%20%20%20%20%3Clink%20rel%3D%22stylesheet%22%20href%3D%22https%3A//rawcdn.githack.com/python-visualization/folium/master/folium/templates/leaflet.awesome.rotate.css%22/%3E%0A%20%20%20%20%3Cstyle%3Ehtml%2C%20body%20%7Bwidth%3A%20100%25%3Bheight%3A%20100%25%3Bmargin%3A%200%3Bpadding%3A%200%3B%7D%3C/style%3E%0A%20%20%20%20%3Cstyle%3E%23map%20%7Bposition%3Aabsolute%3Btop%3A0%3Bbottom%3A0%3Bright%3A0%3Bleft%3A0%3B%7D%3C/style%3E%0A%20%20%20%20%0A%20%20%20%20%3Cmeta%20name%3D%22viewport%22%20content%3D%22width%3Ddevice-width%2C%0A%20%20%20%20%20%20%20%20initial-scale%3D1.0%2C%20maximum-scale%3D1.0%2C%20user-scalable%3Dno%22%20/%3E%0A%20%20%20%20%3Cstyle%3E%23map_93e952a01f824df5adada6f96b7b79f8%20%7B%0A%20%20%20%20%20%20%20%20position%3A%20relative%3B%0A%20%20%20%20%20%20%20%20width%3A%20100.0%25%3B%0A%20%20%20%20%20%20%20%20height%3A%20100.0%25%3B%0A%20%20%20%20%20%20%20%20left%3A%200.0%25%3B%0A%20%20%20%20%20%20%20%20top%3A%200.0%25%3B%0A%20%20%20%20%20%20%20%20%7D%0A%20%20%20%20%3C/style%3E%0A%3C/head%3E%0A%3Cbody%3E%20%20%20%20%0A%20%20%20%20%0A%20%20%20%20%3Cdiv%20class%3D%22folium-map%22%20id%3D%22map_93e952a01f824df5adada6f96b7b79f8%22%20%3E%3C/div%3E%0A%3C/body%3E%0A%3Cscript%3E%20%20%20%20%0A%20%20%20%20%0A%20%20%20%20%0A%20%20%20%20%20%20%20%20var%20bounds%20%3D%20null%3B%0A%20%20%20%20%0A%0A%20%20%20%20var%20map_93e952a01f824df5adada6f96b7b79f8%20%3D%20L.map%28%0A%20%20%20%20%20%20%20%20%27map_93e952a01f824df5adada6f96b7b79f8%27%2C%20%7B%0A%20%20%20%20%20%20%20%20center%3A%20%5B52.37962462071622%2C%2014.280646369492525%5D%2C%0A%20%20%20%20%20%20%20%20zoom%3A%2015%2C%0A%20%20%20%20%20%20%20%20maxBounds%3A%20bounds%2C%0A%20%20%20%20%20%20%20%20layers%3A%20%5B%5D%2C%0A%20%20%20%20%20%20%20%20worldCopyJump%3A%20false%2C%0A%20%20%20%20%20%20%20%20crs%3A%20L.CRS.EPSG3857%2C%0A%20%20%20%20%20%20%20%20zoomControl%3A%20true%2C%0A%20%20%20%20%20%20%20%20%7D%29%3B%0A%0A%0A%20%20%20%20%0A%20%20%20%20var%20tile_layer_c03dcf6fc664469e811f3c4e548426f1%20%3D%20L.tileLayer%28%0A%20%20%20%20%20%20%20%20%27https%3A//%7Bs%7D.tile.openstreetmap.org/%7Bz%7D/%7Bx%7D/%7By%7D.png%27%2C%0A%20%20%20%20%20%20%20%20%7B%0A%20%20%20%20%20%20%20%20%22attribution%22%3A%20null%2C%0A%20%20%20%20%20%20%20%20%22detectRetina%22%3A%20false%2C%0A%20%20%20%20%20%20%20%20%22maxNativeZoom%22%3A%2018%2C%0A%20%20%20%20%20%20%20%20%22maxZoom%22%3A%2018%2C%0A%20%20%20%20%20%20%20%20%22minZoom%22%3A%200%2C%0A%20%20%20%20%20%20%20%20%22noWrap%22%3A%20false%2C%0A%20%20%20%20%20%20%20%20%22opacity%22%3A%201%2C%0A%20%20%20%20%20%20%20%20%22subdomains%22%3A%20%22abc%22%2C%0A%20%20%20%20%20%20%20%20%22tms%22%3A%20false%0A%7D%29.addTo%28map_93e952a01f824df5adada6f96b7b79f8%29%3B%0A%20%20%20%20%0A%20%20%20%20%20%20%20%20var%20geo_json_cff7461c49ed4386aac982aba0e0aad2%20%3D%20L.geoJson%28%0A%20%20%20%20%20%20%20%20%20%20%20%20%7B%22bbox%22%3A%20%5B14.275646369492524%2C%2052.37462462071622%2C%2014.285646369492525%2C%2052.384624620716224%5D%2C%20%22features%22%3A%20%5B%7B%22bbox%22%3A%20%5B14.275646369492524%2C%2052.37462462071622%2C%2014.285646369492525%2C%2052.384624620716224%5D%2C%20%22geometry%22%3A%20%7B%22coordinates%22%3A%20%5B%5B%5B14.275646369492524%2C%2052.37462462071622%5D%2C%20%5B14.275646369492524%2C%2052.384624620716224%5D%2C%20%5B14.285646369492525%2C%2052.384624620716224%5D%2C%20%5B14.285646369492525%2C%2052.37462462071622%5D%2C%20%5B14.275646369492524%2C%2052.37462462071622%5D%5D%5D%2C%20%22type%22%3A%20%22Polygon%22%7D%2C%20%22id%22%3A%20%220%22%2C%20%22properties%22%3A%20%7B%22highlight%22%3A%20%7B%7D%2C%20%22style%22%3A%20%7B%7D%7D%2C%20%22type%22%3A%20%22Feature%22%7D%5D%2C%20%22type%22%3A%20%22FeatureCollection%22%7D%2C%0A%20%20%20%20%20%20%20%20%20%20%20%20%7B%0A%20%20%20%20%20%20%20%20%20%20%20%20%7D%0A%20%20%20%20%20%20%20%20%29.addTo%28map_93e952a01f824df5adada6f96b7b79f8%20%29%3B%0A%20%20%20%20%20%20%20%20geo_json_cff7461c49ed4386aac982aba0e0aad2.setStyle%28function%28feature%29%20%7Breturn%20feature.properties.style%3B%7D%29%3B%0A%20%20%20%20%20%20%20%20%0A%20%20%20%20%0A%20%20%20%20%20%20%20%20%20%20%20%20%20%20%20%20var%20lat_lng_popup_29fd78900adb42478d41280160f94540%20%3D%20L.popup%28%29%3B%0A%20%20%20%20%20%20%20%20%20%20%20%20%20%20%20%20function%20latLngPop%28e%29%20%7B%0A%20%20%20%20%20%20%20%20%20%20%20%20%20%20%20%20%20%20%20%20lat_lng_popup_29fd78900adb42478d41280160f94540%0A%20%20%20%20%20%20%20%20%20%20%20%20%20%20%20%20%20%20%20%20%20%20%20%20.setLatLng%28e.latlng%29%0A%20%20%20%20%20%20%20%20%20%20%20%20%20%20%20%20%20%20%20%20%20%20%20%20.setContent%28%22Latitude%3A%20%22%20%2B%20e.latlng.lat.toFixed%284%29%20%2B%0A%20%20%20%20%20%20%20%20%20%20%20%20%20%20%20%20%20%20%20%20%20%20%20%20%20%20%20%20%20%20%20%20%20%20%20%20%22%3Cbr%3ELongitude%3A%20%22%20%2B%20e.latlng.lng.toFixed%284%29%29%0A%20%20%20%20%20%20%20%20%20%20%20%20%20%20%20%20%20%20%20%20%20%20%20%20.openOn%28map_93e952a01f824df5adada6f96b7b79f8%29%3B%0A%20%20%20%20%20%20%20%20%20%20%20%20%20%20%20%20%20%20%20%20%7D%0A%20%20%20%20%20%20%20%20%20%20%20%20%20%20%20%20map_93e952a01f824df5adada6f96b7b79f8.on%28%27click%27%2C%20latLngPop%29%3B%0A%20%20%20%20%20%20%20%20%20%20%20%20%0A%3C/script%3E onload=\"this.contentDocument.open();this.contentDocument.write(    decodeURIComponent(this.getAttribute('data-html')));this.contentDocument.close();\" allowfullscreen webkitallowfullscreen mozallowfullscreen></iframe></div></div>"
            ],
            "text/plain": [
              "<folium.folium.Map at 0x7f5560605250>"
            ]
          },
          "metadata": {
            "tags": []
          },
          "execution_count": 11
        }
      ]
    },
    {
      "cell_type": "code",
      "metadata": {
        "colab": {
          "base_uri": "https://localhost:8080/"
        },
        "id": "2O7auLjLvhlu",
        "outputId": "41911fd2-e5ca-4634-99f6-972a14dade93"
      },
      "source": [
        "# Cell 6: use the Sential API to find imagery featuring our shapefile from cell 5\n",
        "#Work in Progress\n",
        "# Documentation : https://sentinelsat.readthedocs.io/en/v0.8/api.html\n",
        "\n",
        "user = 'clairemacd' \n",
        "password = 'cl!mateF4rmers' \n",
        "api = SentinelAPI(user, password, 'https://scihub.copernicus.eu/dhus')\n",
        "\n",
        "footprint = None\n",
        "for i in polygon['geometry']:\n",
        "    footprint = i\n",
        "\n",
        "#Date format is YYYYMMDD, \n",
        "products = api.query(footprint,\n",
        "                     date = ('20210321', '20210323'),\n",
        "                     platformname = 'Sentinel-2',\n",
        "                     processinglevel = 'Level-2A'\n",
        "                    # cloudcoverpercentage = '[0 TO 100]'\n",
        "                    )\n",
        "print(len(products))\n",
        "\n",
        "\n",
        "#sort by cloud coverage - NEEDS TO BE IMPLEMENTED\n",
        "#products_gdf = api.to_geodataframe(products)\n",
        "#products_gdf_sorted = products_gdf.sort_values(['cloudcoverpercentage'], ascending=[True])\n",
        "#products_gdf_sorted\n",
        "\n",
        "\n",
        "filename=next(iter(products))\n",
        "#download\n",
        "\n",
        "api.download(filename)\n",
        "#this goes into the colab files folder for now, over on the left"
      ],
      "execution_count": null,
      "outputs": [
        {
          "output_type": "stream",
          "text": [
            "1\n"
          ],
          "name": "stdout"
        },
        {
          "output_type": "stream",
          "text": [
            "Downloading: 100%|██████████| 833M/833M [00:27<00:00, 30.5MB/s]\n",
            "MD5 checksumming: 100%|██████████| 833M/833M [00:02<00:00, 402MB/s]\n"
          ],
          "name": "stderr"
        },
        {
          "output_type": "execute_result",
          "data": {
            "text/plain": [
              "{'Creation Date': datetime.datetime(2021, 3, 22, 21, 3, 1, 118000),\n",
              " 'Ingestion Date': datetime.datetime(2021, 3, 22, 21, 2, 9, 889000),\n",
              " 'Online': True,\n",
              " 'date': datetime.datetime(2021, 3, 22, 10, 16, 49, 24000),\n",
              " 'downloaded_bytes': 832695448,\n",
              " 'footprint': 'POLYGON((14.903451249022112 53.24815890064931,14.825442799537829 53.10777393175013,14.82082146146042 53.0994049389826,14.745515350688772 52.963296571199045,14.666594771475213 52.81978602945019,14.630286804231746 52.75328953250104,14.588482879062644 52.67707925997156,14.510310005501482 52.53335022869242,14.432479505731123 52.38960310212814,14.362028732207463 52.25808511238739,13.534433848467895 52.25344953517325,13.500940412097547 53.240200815060746,14.903451249022112 53.24815890064931))',\n",
              " 'id': '7d6d4bf3-2ae0-4e72-af1a-4f8a288cb0e2',\n",
              " 'md5': '38f448f01461ae91172c224efe07b942',\n",
              " 'path': './S2B_MSIL2A_20210322T101649_N0214_R065_T33UVU_20210322T131721.zip',\n",
              " 'size': 832695448,\n",
              " 'title': 'S2B_MSIL2A_20210322T101649_N0214_R065_T33UVU_20210322T131721',\n",
              " 'url': \"https://scihub.copernicus.eu/dhus/odata/v1/Products('7d6d4bf3-2ae0-4e72-af1a-4f8a288cb0e2')/$value\"}"
            ]
          },
          "metadata": {
            "tags": []
          },
          "execution_count": 12
        }
      ]
    },
    {
      "cell_type": "code",
      "metadata": {
        "id": "dofL9X7CyhmP",
        "colab": {
          "base_uri": "https://localhost:8080/"
        },
        "outputId": "645db6ad-2660-4f0d-ad60-473c92862288"
      },
      "source": [
        "#Cell 7: unzip file, delete images we don't need, move files\n",
        "\n",
        "\n",
        "list_of_files = glob.glob('/content/*.zip') # * means all if need specific format then *.zip\n",
        "latest_file = max(list_of_files, key=os.path.getctime)\n",
        "print('unzipping '+latest_file)\n",
        "\n",
        "#unzip:\n",
        "with zipfile.ZipFile(latest_file, 'r') as zip_ref:\n",
        "    zip_ref.extractall('/content/')\n",
        "\n",
        "#Navigate to Images\n",
        "\n",
        "list_of_files = glob.glob('/content/*') # * means all if need specific format then *.zip\n",
        "new_folder = max(list_of_files, key=os.path.getctime)\n",
        "\n",
        "nav1 = glob.glob(new_folder+'/GRANULE/') \n",
        "nav1str = ' '.join([str(elem) for elem in nav1]) #convert nav1 to a single string\n",
        "print(nav1str)\n",
        "nav2 = os.listdir(nav1str)\n",
        "nav2str = ' '.join([str(elem) for elem in nav2])\n",
        "nav3 = glob.glob(nav1str + nav2str) \n",
        "nav3str = ' '.join([str(elem) for elem in nav3])\n",
        "list_of_images = glob.glob(nav3str + '/IMG_DATA/R10m/*') \n",
        "print(\"Available Images:\")\n",
        "print(*list_of_images, sep = \"\\n\")\n",
        "\n",
        "\n"
      ],
      "execution_count": null,
      "outputs": [
        {
          "output_type": "stream",
          "text": [
            "unzipping /content/S2B_MSIL2A_20210322T101649_N0214_R065_T33UVU_20210322T131721.zip\n",
            "/content/S2B_MSIL2A_20210322T101649_N0214_R065_T33UVU_20210322T131721.SAFE/GRANULE/\n",
            "Available Images:\n",
            "/content/S2B_MSIL2A_20210322T101649_N0214_R065_T33UVU_20210322T131721.SAFE/GRANULE/L2A_T33UVU_A021112_20210322T101644/IMG_DATA/R10m/T33UVU_20210322T101649_B02_10m.jp2\n",
            "/content/S2B_MSIL2A_20210322T101649_N0214_R065_T33UVU_20210322T131721.SAFE/GRANULE/L2A_T33UVU_A021112_20210322T101644/IMG_DATA/R10m/T33UVU_20210322T101649_B03_10m.jp2\n",
            "/content/S2B_MSIL2A_20210322T101649_N0214_R065_T33UVU_20210322T131721.SAFE/GRANULE/L2A_T33UVU_A021112_20210322T101644/IMG_DATA/R10m/T33UVU_20210322T101649_WVP_10m.jp2\n",
            "/content/S2B_MSIL2A_20210322T101649_N0214_R065_T33UVU_20210322T131721.SAFE/GRANULE/L2A_T33UVU_A021112_20210322T101644/IMG_DATA/R10m/T33UVU_20210322T101649_AOT_10m.jp2\n",
            "/content/S2B_MSIL2A_20210322T101649_N0214_R065_T33UVU_20210322T131721.SAFE/GRANULE/L2A_T33UVU_A021112_20210322T101644/IMG_DATA/R10m/T33UVU_20210322T101649_B08_10m.jp2\n",
            "/content/S2B_MSIL2A_20210322T101649_N0214_R065_T33UVU_20210322T131721.SAFE/GRANULE/L2A_T33UVU_A021112_20210322T101644/IMG_DATA/R10m/T33UVU_20210322T101649_TCI_10m.jp2\n",
            "/content/S2B_MSIL2A_20210322T101649_N0214_R065_T33UVU_20210322T131721.SAFE/GRANULE/L2A_T33UVU_A021112_20210322T101644/IMG_DATA/R10m/T33UVU_20210322T101649_B04_10m.jp2\n"
          ],
          "name": "stdout"
        }
      ]
    },
    {
      "cell_type": "code",
      "metadata": {
        "colab": {
          "base_uri": "https://localhost:8080/"
        },
        "id": "vFbHWXFQpWP6",
        "outputId": "ff2be9e1-0dac-4b51-d801-32e3de5083f5"
      },
      "source": [
        "#Delete all images besides 04 and 08 by index (NEED TO REDO ASAP)\n",
        "\n",
        "#make a string of first/any file name\n",
        "filename=(list_of_images[0])\n",
        "filenameStr = ''.join([str(elem) for elem in filename])\n",
        "#print(filenameStr)\n",
        "\n",
        "#cut off the last 10 characters\n",
        "new_str = filenameStr[:-11] \n",
        "\n",
        "#delete filenamestringB02_10m.jp2\n",
        "os.remove(new_str+'B02_10m.jp2')\n",
        "#delete filenamestringB03_10m.jp2\n",
        "os.remove(new_str+'B03_10m.jp2')\n",
        "#delete filenamestringTCI_10m.jp2\n",
        "os.remove(new_str+'TCI_10m.jp2')\n",
        "#delete filenamestringAOT_10m.jp2\n",
        "os.remove(new_str+'AOT_10m.jp2')\n",
        "#delete filenamestringWVP_10m.jp2\n",
        "os.remove(new_str+'WVP_10m.jp2')\n",
        "\n",
        "finalImages = glob.glob(nav3str + '/IMG_DATA/R10m/*') \n",
        "print(\"After deleting unneeded images:\")\n",
        "print(*finalImages, sep = \"\\n\")\n",
        "\n",
        "#move bands 4 and 8?\n"
      ],
      "execution_count": null,
      "outputs": [
        {
          "output_type": "stream",
          "text": [
            "After deleting unneeded images:\n",
            "/content/S2B_MSIL2A_20210322T101649_N0214_R065_T33UVU_20210322T131721.SAFE/GRANULE/L2A_T33UVU_A021112_20210322T101644/IMG_DATA/R10m/T33UVU_20210322T101649_B08_10m.jp2\n",
            "/content/S2B_MSIL2A_20210322T101649_N0214_R065_T33UVU_20210322T131721.SAFE/GRANULE/L2A_T33UVU_A021112_20210322T101644/IMG_DATA/R10m/T33UVU_20210322T101649_B04_10m.jp2\n"
          ],
          "name": "stdout"
        }
      ]
    },
    {
      "cell_type": "code",
      "metadata": {
        "id": "NpHd6W3FHik1",
        "colab": {
          "base_uri": "https://localhost:8080/",
          "height": 238
        },
        "outputId": "c88717f9-a537-4e76-b4e5-37b927110189"
      },
      "source": [
        "#Cell 8: #open satellite image and preview\n",
        "#https://rasterio.readthedocs.io/en/latest/topics/reading.html\n",
        "image = rio.open(new_str+'B04_10m.jp2')\n",
        "\n",
        "\n",
        "image=image.squeeze()\n",
        "fig = plt.figure()\n",
        "grid = axes_grid1.AxesGrid(\n",
        "    fig, 111, nrows_ncols=(1, 2), axes_pad = 0.5, cbar_location = \"right\",\n",
        "    cbar_mode=\"each\", cbar_size=\"15%\", cbar_pad=\"5%\",)\n",
        "\n",
        "im0 = grid[0].imshow(image, cmap='pink', interpolation='nearest')\n",
        "grid.cbar_axes[0].colorbar(im0)\n"
      ],
      "execution_count": null,
      "outputs": [
        {
          "output_type": "error",
          "ename": "AttributeError",
          "evalue": "ignored",
          "traceback": [
            "\u001b[0;31m---------------------------------------------------------------------------\u001b[0m",
            "\u001b[0;31mAttributeError\u001b[0m                            Traceback (most recent call last)",
            "\u001b[0;32m<ipython-input-18-08790ddb8edd>\u001b[0m in \u001b[0;36m<module>\u001b[0;34m()\u001b[0m\n\u001b[1;32m      4\u001b[0m \u001b[0;34m\u001b[0m\u001b[0m\n\u001b[1;32m      5\u001b[0m \u001b[0;34m\u001b[0m\u001b[0m\n\u001b[0;32m----> 6\u001b[0;31m \u001b[0mimage\u001b[0m\u001b[0;34m=\u001b[0m\u001b[0mimage\u001b[0m\u001b[0;34m.\u001b[0m\u001b[0msqueeze\u001b[0m\u001b[0;34m(\u001b[0m\u001b[0;34m)\u001b[0m\u001b[0;34m\u001b[0m\u001b[0;34m\u001b[0m\u001b[0m\n\u001b[0m\u001b[1;32m      7\u001b[0m \u001b[0mfig\u001b[0m \u001b[0;34m=\u001b[0m \u001b[0mplt\u001b[0m\u001b[0;34m.\u001b[0m\u001b[0mfigure\u001b[0m\u001b[0;34m(\u001b[0m\u001b[0;34m)\u001b[0m\u001b[0;34m\u001b[0m\u001b[0;34m\u001b[0m\u001b[0m\n\u001b[1;32m      8\u001b[0m grid = axes_grid1.AxesGrid(\n",
            "\u001b[0;31mAttributeError\u001b[0m: 'DatasetReader' object has no attribute 'squeeze'"
          ]
        }
      ]
    },
    {
      "cell_type": "code",
      "metadata": {
        "colab": {
          "base_uri": "https://localhost:8080/"
        },
        "id": "qjyf6FWhju8D",
        "outputId": "0d9c4d75-8657-451a-cc45-4ceea602c9c8"
      },
      "source": [
        "#Cell 9 : #Clip band 4 Image to shapefile\n",
        "\n",
        "#from https://towardsdatascience.com/satellite-imagery-access-and-analysis-in-python-jupyter-notebooks-387971ece84b (also in notion)\n",
        "# the above link is available on notion as a pdf as well\n",
        "\n",
        "areaOfInterest_proj = polygon.to_crs({'init': 'epsg:32633'})\n",
        "\n",
        "with rio.open((new_str+'B04_10m.jp2')) as src:\n",
        "    b4_out_image, out_transform = rio.mask.mask(src, areaOfInterest_proj.geometry,crop=True)\n",
        "    out_meta = src.meta.copy()\n",
        "    out_meta.update({\"driver\": \"GTiff\",\n",
        "                 \"height\": b4_out_image.shape[1],\n",
        "                 \"width\": b4_out_image.shape[2],\n",
        "                 \"transform\": out_transform})\n",
        "    \n",
        "    print(np.shape(b4_out_image))\n",
        "\n",
        "with rio.open(\"b4_cropped.tif\", \"w\", **out_meta) as dest:\n",
        "    dest.write(b4_out_image)"
      ],
      "execution_count": null,
      "outputs": [
        {
          "output_type": "stream",
          "text": [
            "/usr/local/lib/python3.7/dist-packages/pyproj/crs/crs.py:53: FutureWarning: '+init=<authority>:<code>' syntax is deprecated. '<authority>:<code>' is the preferred initialization method. When making the change, be mindful of axis order changes: https://pyproj4.github.io/pyproj/stable/gotchas.html#axis-order-changes-in-proj-6\n",
            "  return _prepare_from_string(\" \".join(pjargs))\n"
          ],
          "name": "stderr"
        },
        {
          "output_type": "stream",
          "text": [
            "(1, 113, 71)\n"
          ],
          "name": "stdout"
        }
      ]
    },
    {
      "cell_type": "code",
      "metadata": {
        "colab": {
          "base_uri": "https://localhost:8080/",
          "height": 395
        },
        "id": "_VWWNHqd11V_",
        "outputId": "5da76ee2-f1ff-4796-a23d-39a49d09b526"
      },
      "source": [
        "#Cell 10\n",
        "\n",
        "#display new, cropped image    \n",
        "image = b4_out_image\n",
        "\n",
        "fig = plt.figure()\n",
        "grid = axes_grid1.AxesGrid(\n",
        "    fig, 111, nrows_ncols=(1, 2), axes_pad = 0.5, cbar_location = \"right\",\n",
        "    cbar_mode=\"each\", cbar_size=\"15%\", cbar_pad=\"5%\",)\n",
        "image = image.squeeze()\n",
        "im0 = grid[0].imshow(image, cmap='pink', interpolation='nearest')\n",
        "grid.cbar_axes[0].colorbar(im0)\n"
      ],
      "execution_count": null,
      "outputs": [
        {
          "output_type": "stream",
          "text": [
            "/usr/local/lib/python3.7/dist-packages/ipykernel_launcher.py:12: MatplotlibDeprecationWarning: Since 3.2, mpl_toolkits's own colorbar implementation is deprecated; it will be removed two minor releases later.  Set the 'mpl_toolkits.legacy_colorbar' rcParam to False to use Matplotlib's default colorbar implementation and suppress this deprecation warning.\n",
            "  if sys.path[0] == '':\n",
            "/usr/local/lib/python3.7/dist-packages/mpl_toolkits/axes_grid1/axes_grid.py:51: MatplotlibDeprecationWarning: \n",
            "The mpl_toolkits.axes_grid1.colorbar module was deprecated in Matplotlib 3.2 and will be removed two minor releases later. Use matplotlib.colorbar instead.\n",
            "  from .colorbar import Colorbar\n"
          ],
          "name": "stderr"
        },
        {
          "output_type": "execute_result",
          "data": {
            "text/plain": [
              "<mpl_toolkits.axes_grid1.colorbar.Colorbar at 0x7f555eda2b10>"
            ]
          },
          "metadata": {
            "tags": []
          },
          "execution_count": 20
        },
        {
          "output_type": "display_data",
          "data": {
            "image/png": "[encoded data removed]",
            "text/plain": [
              "<Figure size 432x288 with 4 Axes>"
            ]
          },
          "metadata": {
            "tags": [],
            "needs_background": "light"
          }
        }
      ]
    },
    {
      "cell_type": "code",
      "metadata": {
        "colab": {
          "base_uri": "https://localhost:8080/"
        },
        "id": "eVzMA8CL6yTo",
        "outputId": "f1e77b0e-c9a1-4cea-e7fa-ecc1e3a4ec72"
      },
      "source": [
        "#Cell 10: Crop for Band 8 as well\n",
        "\n",
        "with rio.open((new_str+'B08_10m.jp2')) as src:\n",
        "    b8_out_image, out_transform = rio.mask.mask(src, areaOfInterest_proj.geometry,crop=True)\n",
        "    out_meta = src.meta.copy()\n",
        "    out_meta.update({\"driver\": \"GTiff\",\n",
        "                 \"height\": b8_out_image.shape[1],\n",
        "                 \"width\": b8_out_image.shape[2],\n",
        "                 \"transform\": out_transform})\n",
        "    \n",
        "print(np.shape(b8_out_image))\n",
        "\n",
        "\n",
        "with rio.open(\"b8_cropped.tif\", \"w\", **out_meta) as dest:\n",
        "    dest.write(b8_out_image)"
      ],
      "execution_count": null,
      "outputs": [
        {
          "output_type": "stream",
          "text": [
            "(1, 113, 71)\n"
          ],
          "name": "stdout"
        }
      ]
    },
    {
      "cell_type": "code",
      "metadata": {
        "colab": {
          "base_uri": "https://localhost:8080/",
          "height": 378
        },
        "id": "ULkyYCgO7ZR6",
        "outputId": "1bc779f0-14a9-4334-c13f-1c191ecc3da8"
      },
      "source": [
        "#Cell 11 Apply NDVI to cropped images (HELP, b8 has different dimensions than b4)\n",
        "\n",
        "b4 = rio.open('b4_cropped.tif')\n",
        "b8 = rio.open('b8_cropped.tif')\n",
        "\n",
        "# read Red(b4) and NIR(b8) as arrays\n",
        "red = b4.read()\n",
        "nir = b8.read()\n",
        "\n",
        "\n",
        "# Calculate ndvi\n",
        "ndvi = (nir.astype(float)-red.astype(float))/(nir+red)\n",
        "#ndvi = ndvi.squeeze()\n",
        "print(np.shape(ndvi))\n",
        "\n",
        "# Write the NDVI image\n",
        "meta = b4.meta\n",
        "meta.update(driver='GTiff')\n",
        "meta.update(dtype=rio.float32)\n",
        "\n",
        "with rio.open('NDVI.tif', 'w', **meta) as dst:\n",
        "    dst.write(ndvi.astype(rio.float32))\n",
        "\n",
        "fig = plt.figure()\n",
        "grid = axes_grid1.AxesGrid(\n",
        "    fig, 111, nrows_ncols=(1, 2), axes_pad = 0.5, cbar_location = \"right\",\n",
        "    cbar_mode=\"each\", cbar_size=\"15%\", cbar_pad=\"5%\",)\n",
        "ndvi=ndvi.squeeze()\n",
        "im0 = grid[0].imshow(ndvi, cmap='pink', interpolation='nearest')\n",
        "grid.cbar_axes[0].colorbar(im0)\n",
        "\n",
        "\n",
        "#print(\"Calculations of NDVI for a given pixel always result in a number that ranges from minus one (-1) to plus one (+1); however, no green leaves gives a value close to zero. A zero means no vegetation and close to +1 (0.8 - 0.9) indicates the highest possible density of green leaves.\")\n",
        "\n",
        "#print(\"from https://earthobservatory.nasa.gov/features/MeasuringVegetation/measuring_vegetation_2.php.\")"
      ],
      "execution_count": null,
      "outputs": [
        {
          "output_type": "stream",
          "text": [
            "(1, 113, 71)\n"
          ],
          "name": "stdout"
        },
        {
          "output_type": "stream",
          "text": [
            "/usr/local/lib/python3.7/dist-packages/ipykernel_launcher.py:12: RuntimeWarning: invalid value encountered in true_divide\n",
            "  if sys.path[0] == '':\n",
            "/usr/local/lib/python3.7/dist-packages/ipykernel_launcher.py:30: MatplotlibDeprecationWarning: Since 3.2, mpl_toolkits's own colorbar implementation is deprecated; it will be removed two minor releases later.  Set the 'mpl_toolkits.legacy_colorbar' rcParam to False to use Matplotlib's default colorbar implementation and suppress this deprecation warning.\n"
          ],
          "name": "stderr"
        },
        {
          "output_type": "execute_result",
          "data": {
            "text/plain": [
              "<mpl_toolkits.axes_grid1.colorbar.Colorbar at 0x7f555e821250>"
            ]
          },
          "metadata": {
            "tags": []
          },
          "execution_count": 30
        },
        {
          "output_type": "display_data",
          "data": {
            "image/png": "[encoded data removed]",
            "text/plain": [
              "<Figure size 432x288 with 4 Axes>"
            ]
          },
          "metadata": {
            "tags": [],
            "needs_background": "light"
          }
        }
      ]
    },
    {
      "cell_type": "code",
      "metadata": {
        "colab": {
          "base_uri": "https://localhost:8080/",
          "height": 342
        },
        "id": "Dh0i8feE9m26",
        "outputId": "77ec0600-d2a6-4edc-dcbe-1024f60314c8"
      },
      "source": [
        "# Calculate ndvi\n",
        "#ndvi = (nir.astype(float)-red.astype(float))/(nir+red)\n",
        "\n",
        "#SAVI\n",
        "L= 0.5\n",
        "savi = ((nir.astype(float) - red.astype(float))*(1+L))/(nir + red + L)\n",
        "\n",
        "\n",
        "# Write the SAVI image\n",
        "meta = b4.meta\n",
        "meta.update(driver='GTiff')\n",
        "meta.update(dtype=rio.float32)\n",
        "\n",
        "with rio.open('SAVI.tif', 'w', **meta) as dst:\n",
        "    dst.write(savi.astype(rio.float32))\n",
        "\n",
        "fig = plt.figure()\n",
        "grid = axes_grid1.AxesGrid(\n",
        "    fig, 111, nrows_ncols=(1, 2), axes_pad = 0.5, cbar_location = \"right\",\n",
        "    cbar_mode=\"each\", cbar_size=\"15%\", cbar_pad=\"5%\",)\n",
        "savi = savi.squeeze()\n",
        "im0 = grid[0].imshow(savi, cmap='pink', interpolation='nearest')\n",
        "grid.cbar_axes[0].colorbar(im0)\n",
        "\n",
        "\n",
        "print(\"SAVI is used to correct Normalized Difference Vegetation Index (NDVI) for the influence of soil brightness in areas where vegetative cover is low. Landsat Surface Reflectance-derived SAVI is calculated as a ratio between the R and NIR values with a soil brightness correction factor (L) defined as 0.5 to accommodate most land cover types.\")\n",
        "\n",
        "print(\"from https://www.usgs.gov/core-science-systems/nli/landsat/landsat-soil-adjusted-vegetation-index\")"
      ],
      "execution_count": null,
      "outputs": [
        {
          "output_type": "stream",
          "text": [
            "/usr/local/lib/python3.7/dist-packages/ipykernel_launcher.py:23: MatplotlibDeprecationWarning: Since 3.2, mpl_toolkits's own colorbar implementation is deprecated; it will be removed two minor releases later.  Set the 'mpl_toolkits.legacy_colorbar' rcParam to False to use Matplotlib's default colorbar implementation and suppress this deprecation warning.\n"
          ],
          "name": "stderr"
        },
        {
          "output_type": "stream",
          "text": [
            "SAVI is used to correct Normalized Difference Vegetation Index (NDVI) for the influence of soil brightness in areas where vegetative cover is low. Landsat Surface Reflectance-derived SAVI is calculated as a ratio between the R and NIR values with a soil brightness correction factor (L) defined as 0.5 to accommodate most land cover types.\n",
            "from https://www.usgs.gov/core-science-systems/nli/landsat/landsat-soil-adjusted-vegetation-index\n"
          ],
          "name": "stdout"
        },
        {
          "output_type": "display_data",
          "data": {
            "image/png": "[encoded data removed]",
            "text/plain": [
              "<Figure size 432x288 with 4 Axes>"
            ]
          },
          "metadata": {
            "tags": [],
            "needs_background": "light"
          }
        }
      ]
    },
    {
      "cell_type": "code",
      "metadata": {
        "colab": {
          "base_uri": "https://localhost:8080/",
          "height": 387
        },
        "id": "WBcSxZvxfeUZ",
        "outputId": "8bba1a96-50bc-4a21-9646-041657e82c66"
      },
      "source": [
        "#Cell 13: add satellite image to map\n",
        "img = folium.raster_layers.ImageOverlay(\n",
        "        name=\"Sentinel Data\",\n",
        "        image=src,\n",
        "        #bounds=[[-56.09588341, -6.3317122], [-55.65438201, -7.32325225]], #needs to be updated for current region\n",
        "        bounds = polygon,\n",
        "        opacity=0.6,\n",
        "        interactive=True,\n",
        "        cross_origin=False,\n",
        "        zindex=1,\n",
        "    )\n",
        "\n",
        "img.add_to(m)\n",
        "folium.LayerControl().add_to(m)\n",
        "m"
      ],
      "execution_count": null,
      "outputs": [
        {
          "output_type": "error",
          "ename": "TypeError",
          "evalue": "ignored",
          "traceback": [
            "\u001b[0;31m---------------------------------------------------------------------------\u001b[0m",
            "\u001b[0;31mTypeError\u001b[0m                                 Traceback (most recent call last)",
            "\u001b[0;32m<ipython-input-42-81bc1b9359c6>\u001b[0m in \u001b[0;36m<module>\u001b[0;34m()\u001b[0m\n\u001b[1;32m      8\u001b[0m         \u001b[0minteractive\u001b[0m\u001b[0;34m=\u001b[0m\u001b[0;32mTrue\u001b[0m\u001b[0;34m,\u001b[0m\u001b[0;34m\u001b[0m\u001b[0;34m\u001b[0m\u001b[0m\n\u001b[1;32m      9\u001b[0m         \u001b[0mcross_origin\u001b[0m\u001b[0;34m=\u001b[0m\u001b[0;32mFalse\u001b[0m\u001b[0;34m,\u001b[0m\u001b[0;34m\u001b[0m\u001b[0;34m\u001b[0m\u001b[0m\n\u001b[0;32m---> 10\u001b[0;31m         \u001b[0mzindex\u001b[0m\u001b[0;34m=\u001b[0m\u001b[0;36m1\u001b[0m\u001b[0;34m,\u001b[0m\u001b[0;34m\u001b[0m\u001b[0;34m\u001b[0m\u001b[0m\n\u001b[0m\u001b[1;32m     11\u001b[0m     )\n\u001b[1;32m     12\u001b[0m \u001b[0;34m\u001b[0m\u001b[0m\n",
            "\u001b[0;32m/usr/local/lib/python3.7/dist-packages/folium/raster_layers.py\u001b[0m in \u001b[0;36m__init__\u001b[0;34m(self, image, bounds, origin, colormap, mercator_project, pixelated, name, overlay, control, show, **kwargs)\u001b[0m\n\u001b[1;32m    274\u001b[0m                 origin=origin)\n\u001b[1;32m    275\u001b[0m \u001b[0;34m\u001b[0m\u001b[0m\n\u001b[0;32m--> 276\u001b[0;31m         \u001b[0mself\u001b[0m\u001b[0;34m.\u001b[0m\u001b[0murl\u001b[0m \u001b[0;34m=\u001b[0m \u001b[0mimage_to_url\u001b[0m\u001b[0;34m(\u001b[0m\u001b[0mimage\u001b[0m\u001b[0;34m,\u001b[0m \u001b[0morigin\u001b[0m\u001b[0;34m=\u001b[0m\u001b[0morigin\u001b[0m\u001b[0;34m,\u001b[0m \u001b[0mcolormap\u001b[0m\u001b[0;34m=\u001b[0m\u001b[0mcolormap\u001b[0m\u001b[0;34m)\u001b[0m\u001b[0;34m\u001b[0m\u001b[0;34m\u001b[0m\u001b[0m\n\u001b[0m\u001b[1;32m    277\u001b[0m \u001b[0;34m\u001b[0m\u001b[0m\n\u001b[1;32m    278\u001b[0m         \u001b[0mself\u001b[0m\u001b[0;34m.\u001b[0m\u001b[0mbounds\u001b[0m \u001b[0;34m=\u001b[0m \u001b[0mjson\u001b[0m\u001b[0;34m.\u001b[0m\u001b[0mloads\u001b[0m\u001b[0;34m(\u001b[0m\u001b[0mjson\u001b[0m\u001b[0;34m.\u001b[0m\u001b[0mdumps\u001b[0m\u001b[0;34m(\u001b[0m\u001b[0mbounds\u001b[0m\u001b[0;34m)\u001b[0m\u001b[0;34m)\u001b[0m\u001b[0;34m\u001b[0m\u001b[0;34m\u001b[0m\u001b[0m\n",
            "\u001b[0;32m/usr/local/lib/python3.7/dist-packages/folium/utilities.py\u001b[0m in \u001b[0;36mimage_to_url\u001b[0;34m(image, colormap, origin)\u001b[0m\n\u001b[1;32m    114\u001b[0m     \u001b[0;32melse\u001b[0m\u001b[0;34m:\u001b[0m\u001b[0;34m\u001b[0m\u001b[0;34m\u001b[0m\u001b[0m\n\u001b[1;32m    115\u001b[0m         \u001b[0;31m# Round-trip to ensure a nice formatted json.\u001b[0m\u001b[0;34m\u001b[0m\u001b[0;34m\u001b[0m\u001b[0;34m\u001b[0m\u001b[0m\n\u001b[0;32m--> 116\u001b[0;31m         \u001b[0murl\u001b[0m \u001b[0;34m=\u001b[0m \u001b[0mjson\u001b[0m\u001b[0;34m.\u001b[0m\u001b[0mloads\u001b[0m\u001b[0;34m(\u001b[0m\u001b[0mjson\u001b[0m\u001b[0;34m.\u001b[0m\u001b[0mdumps\u001b[0m\u001b[0;34m(\u001b[0m\u001b[0mimage\u001b[0m\u001b[0;34m)\u001b[0m\u001b[0;34m)\u001b[0m\u001b[0;34m\u001b[0m\u001b[0;34m\u001b[0m\u001b[0m\n\u001b[0m\u001b[1;32m    117\u001b[0m     \u001b[0;32mreturn\u001b[0m \u001b[0murl\u001b[0m\u001b[0;34m.\u001b[0m\u001b[0mreplace\u001b[0m\u001b[0;34m(\u001b[0m\u001b[0;34m'\\n'\u001b[0m\u001b[0;34m,\u001b[0m \u001b[0;34m' '\u001b[0m\u001b[0;34m)\u001b[0m\u001b[0;34m\u001b[0m\u001b[0;34m\u001b[0m\u001b[0m\n\u001b[1;32m    118\u001b[0m \u001b[0;34m\u001b[0m\u001b[0m\n",
            "\u001b[0;32m/usr/lib/python3.7/json/__init__.py\u001b[0m in \u001b[0;36mdumps\u001b[0;34m(obj, skipkeys, ensure_ascii, check_circular, allow_nan, cls, indent, separators, default, sort_keys, **kw)\u001b[0m\n\u001b[1;32m    229\u001b[0m         \u001b[0mcls\u001b[0m \u001b[0;32mis\u001b[0m \u001b[0;32mNone\u001b[0m \u001b[0;32mand\u001b[0m \u001b[0mindent\u001b[0m \u001b[0;32mis\u001b[0m \u001b[0;32mNone\u001b[0m \u001b[0;32mand\u001b[0m \u001b[0mseparators\u001b[0m \u001b[0;32mis\u001b[0m \u001b[0;32mNone\u001b[0m \u001b[0;32mand\u001b[0m\u001b[0;34m\u001b[0m\u001b[0;34m\u001b[0m\u001b[0m\n\u001b[1;32m    230\u001b[0m         default is None and not sort_keys and not kw):\n\u001b[0;32m--> 231\u001b[0;31m         \u001b[0;32mreturn\u001b[0m \u001b[0m_default_encoder\u001b[0m\u001b[0;34m.\u001b[0m\u001b[0mencode\u001b[0m\u001b[0;34m(\u001b[0m\u001b[0mobj\u001b[0m\u001b[0;34m)\u001b[0m\u001b[0;34m\u001b[0m\u001b[0;34m\u001b[0m\u001b[0m\n\u001b[0m\u001b[1;32m    232\u001b[0m     \u001b[0;32mif\u001b[0m \u001b[0mcls\u001b[0m \u001b[0;32mis\u001b[0m \u001b[0;32mNone\u001b[0m\u001b[0;34m:\u001b[0m\u001b[0;34m\u001b[0m\u001b[0;34m\u001b[0m\u001b[0m\n\u001b[1;32m    233\u001b[0m         \u001b[0mcls\u001b[0m \u001b[0;34m=\u001b[0m \u001b[0mJSONEncoder\u001b[0m\u001b[0;34m\u001b[0m\u001b[0;34m\u001b[0m\u001b[0m\n",
            "\u001b[0;32m/usr/lib/python3.7/json/encoder.py\u001b[0m in \u001b[0;36mencode\u001b[0;34m(self, o)\u001b[0m\n\u001b[1;32m    197\u001b[0m         \u001b[0;31m# exceptions aren't as detailed.  The list call should be roughly\u001b[0m\u001b[0;34m\u001b[0m\u001b[0;34m\u001b[0m\u001b[0;34m\u001b[0m\u001b[0m\n\u001b[1;32m    198\u001b[0m         \u001b[0;31m# equivalent to the PySequence_Fast that ''.join() would do.\u001b[0m\u001b[0;34m\u001b[0m\u001b[0;34m\u001b[0m\u001b[0;34m\u001b[0m\u001b[0m\n\u001b[0;32m--> 199\u001b[0;31m         \u001b[0mchunks\u001b[0m \u001b[0;34m=\u001b[0m \u001b[0mself\u001b[0m\u001b[0;34m.\u001b[0m\u001b[0miterencode\u001b[0m\u001b[0;34m(\u001b[0m\u001b[0mo\u001b[0m\u001b[0;34m,\u001b[0m \u001b[0m_one_shot\u001b[0m\u001b[0;34m=\u001b[0m\u001b[0;32mTrue\u001b[0m\u001b[0;34m)\u001b[0m\u001b[0;34m\u001b[0m\u001b[0;34m\u001b[0m\u001b[0m\n\u001b[0m\u001b[1;32m    200\u001b[0m         \u001b[0;32mif\u001b[0m \u001b[0;32mnot\u001b[0m \u001b[0misinstance\u001b[0m\u001b[0;34m(\u001b[0m\u001b[0mchunks\u001b[0m\u001b[0;34m,\u001b[0m \u001b[0;34m(\u001b[0m\u001b[0mlist\u001b[0m\u001b[0;34m,\u001b[0m \u001b[0mtuple\u001b[0m\u001b[0;34m)\u001b[0m\u001b[0;34m)\u001b[0m\u001b[0;34m:\u001b[0m\u001b[0;34m\u001b[0m\u001b[0;34m\u001b[0m\u001b[0m\n\u001b[1;32m    201\u001b[0m             \u001b[0mchunks\u001b[0m \u001b[0;34m=\u001b[0m \u001b[0mlist\u001b[0m\u001b[0;34m(\u001b[0m\u001b[0mchunks\u001b[0m\u001b[0;34m)\u001b[0m\u001b[0;34m\u001b[0m\u001b[0;34m\u001b[0m\u001b[0m\n",
            "\u001b[0;32m/usr/lib/python3.7/json/encoder.py\u001b[0m in \u001b[0;36miterencode\u001b[0;34m(self, o, _one_shot)\u001b[0m\n\u001b[1;32m    255\u001b[0m                 \u001b[0mself\u001b[0m\u001b[0;34m.\u001b[0m\u001b[0mkey_separator\u001b[0m\u001b[0;34m,\u001b[0m \u001b[0mself\u001b[0m\u001b[0;34m.\u001b[0m\u001b[0mitem_separator\u001b[0m\u001b[0;34m,\u001b[0m \u001b[0mself\u001b[0m\u001b[0;34m.\u001b[0m\u001b[0msort_keys\u001b[0m\u001b[0;34m,\u001b[0m\u001b[0;34m\u001b[0m\u001b[0;34m\u001b[0m\u001b[0m\n\u001b[1;32m    256\u001b[0m                 self.skipkeys, _one_shot)\n\u001b[0;32m--> 257\u001b[0;31m         \u001b[0;32mreturn\u001b[0m \u001b[0m_iterencode\u001b[0m\u001b[0;34m(\u001b[0m\u001b[0mo\u001b[0m\u001b[0;34m,\u001b[0m \u001b[0;36m0\u001b[0m\u001b[0;34m)\u001b[0m\u001b[0;34m\u001b[0m\u001b[0;34m\u001b[0m\u001b[0m\n\u001b[0m\u001b[1;32m    258\u001b[0m \u001b[0;34m\u001b[0m\u001b[0m\n\u001b[1;32m    259\u001b[0m def _make_iterencode(markers, _default, _encoder, _indent, _floatstr,\n",
            "\u001b[0;32m/usr/lib/python3.7/json/encoder.py\u001b[0m in \u001b[0;36mdefault\u001b[0;34m(self, o)\u001b[0m\n\u001b[1;32m    177\u001b[0m \u001b[0;34m\u001b[0m\u001b[0m\n\u001b[1;32m    178\u001b[0m         \"\"\"\n\u001b[0;32m--> 179\u001b[0;31m         raise TypeError(f'Object of type {o.__class__.__name__} '\n\u001b[0m\u001b[1;32m    180\u001b[0m                         f'is not JSON serializable')\n\u001b[1;32m    181\u001b[0m \u001b[0;34m\u001b[0m\u001b[0m\n",
            "\u001b[0;31mTypeError\u001b[0m: Object of type DatasetReader is not JSON serializable"
          ]
        }
      ]
    },
    {
      "cell_type": "code",
      "metadata": {
        "id": "7jlAKi5465r1"
      },
      "source": [
        ""
      ],
      "execution_count": null,
      "outputs": []
    }
  ]
}